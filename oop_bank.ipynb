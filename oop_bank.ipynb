{
 "cells": [
  {
   "cell_type": "code",
   "execution_count": 1,
   "id": "68e99fb0-f593-459a-8f19-4e4699c12deb",
   "metadata": {},
   "outputs": [
    {
     "name": "stdout",
     "output_type": "stream",
     "text": [
      "\n",
      "Welcome to UniBank!\n",
      "\n"
     ]
    },
    {
     "name": "stdin",
     "output_type": "stream",
     "text": [
      "Enter your name:  sabah ahmed\n",
      "Enter your initial balance: $ 1000\n"
     ]
    },
    {
     "name": "stdout",
     "output_type": "stream",
     "text": [
      "\n",
      "Main Menu:\n",
      "1. Check Balance\n",
      "2. Deposit\n",
      "3. Withdraw\n",
      "4. Exit\n"
     ]
    },
    {
     "name": "stdin",
     "output_type": "stream",
     "text": [
      "Choose an option (1-4):  1\n"
     ]
    },
    {
     "name": "stdout",
     "output_type": "stream",
     "text": [
      "\n",
      "sabah ahmed, your balance is: $1000.00\n",
      "\n",
      "Main Menu:\n",
      "1. Check Balance\n",
      "2. Deposit\n",
      "3. Withdraw\n",
      "4. Exit\n"
     ]
    },
    {
     "name": "stdin",
     "output_type": "stream",
     "text": [
      "Choose an option (1-4):  2\n",
      "Enter amount to deposit: $ 200\n"
     ]
    },
    {
     "name": "stdout",
     "output_type": "stream",
     "text": [
      "Deposited $200.00. New balance: $1200.00\n",
      "\n",
      "Main Menu:\n",
      "1. Check Balance\n",
      "2. Deposit\n",
      "3. Withdraw\n",
      "4. Exit\n"
     ]
    },
    {
     "name": "stdin",
     "output_type": "stream",
     "text": [
      "Choose an option (1-4):  1\n"
     ]
    },
    {
     "name": "stdout",
     "output_type": "stream",
     "text": [
      "\n",
      "sabah ahmed, your balance is: $1200.00\n",
      "\n",
      "Main Menu:\n",
      "1. Check Balance\n",
      "2. Deposit\n",
      "3. Withdraw\n",
      "4. Exit\n"
     ]
    },
    {
     "name": "stdin",
     "output_type": "stream",
     "text": [
      "Choose an option (1-4):  3\n",
      "Enter amount to withdraw: $ 100\n"
     ]
    },
    {
     "name": "stdout",
     "output_type": "stream",
     "text": [
      "Withdrew $100.00. New balance: $1100.00\n",
      "\n",
      "Main Menu:\n",
      "1. Check Balance\n",
      "2. Deposit\n",
      "3. Withdraw\n",
      "4. Exit\n"
     ]
    },
    {
     "name": "stdin",
     "output_type": "stream",
     "text": [
      "Choose an option (1-4):  1\n"
     ]
    },
    {
     "name": "stdout",
     "output_type": "stream",
     "text": [
      "\n",
      "sabah ahmed, your balance is: $1100.00\n",
      "\n",
      "Main Menu:\n",
      "1. Check Balance\n",
      "2. Deposit\n",
      "3. Withdraw\n",
      "4. Exit\n"
     ]
    },
    {
     "name": "stdin",
     "output_type": "stream",
     "text": [
      "Choose an option (1-4):  4\n"
     ]
    },
    {
     "name": "stdout",
     "output_type": "stream",
     "text": [
      "\n",
      "Thanks sabah ahmed for using our bank. Goodbye!\n",
      "\n"
     ]
    }
   ],
   "source": [
    "import random\n",
    "\n",
    "class BankAccount:\n",
    "    BANKS = [\"SmartBank\", \"TechBank\", \"FutureBank\", \"UniBank\"]\n",
    "\n",
    "    def __init__(self, name, balance=0.0):\n",
    "        self.name = name\n",
    "        self._balance = float(balance) \n",
    "\n",
    "    @property\n",
    "    def balance(self):\n",
    "        return self._balance\n",
    "\n",
    "    def check_balance(self):\n",
    "        print(f\"\\n{self.name}, your balance is: ${self.balance:.2f}\")\n",
    "\n",
    "    def deposit(self, amount):\n",
    "        if amount <= 0:\n",
    "            print(\"Amount must be positive.\")\n",
    "            return\n",
    "        self._balance += amount\n",
    "        print(f\"Deposited ${amount:.2f}. New balance: ${self.balance:.2f}\")\n",
    "\n",
    "    def withdraw(self, amount):\n",
    "        if amount <= 0:\n",
    "            print(\"Amount must be positive.\")\n",
    "            return\n",
    "        if amount > self.balance:\n",
    "            print(\"Insufficient balance!\")\n",
    "            return\n",
    "        self._balance -= amount\n",
    "        print(f\"Withdrew ${amount:.2f}. New balance: ${self.balance:.2f}\")\n",
    "\n",
    "    @classmethod\n",
    "    def welcome(cls):\n",
    "        print(f\"\\nWelcome to {random.choice(cls.BANKS)}!\\n\")\n",
    "\n",
    "    @classmethod\n",
    "    def create_from_input(cls):\n",
    "        name = input(\"Enter your name: \")\n",
    "        while True:\n",
    "            try:\n",
    "                balance = float(input(\"Enter your initial balance: $\"))\n",
    "                break\n",
    "            except ValueError:\n",
    "                print(\"Invalid input. Please enter a number.\")\n",
    "        return cls(name, balance)\n",
    "\n",
    "\n",
    "def main():\n",
    "    BankAccount.welcome()\n",
    "    account = BankAccount.create_from_input()\n",
    "\n",
    "    while True:\n",
    "        print(\"\\nMain Menu:\")\n",
    "        print(\"1. Check Balance\")\n",
    "        print(\"2. Deposit\")\n",
    "        print(\"3. Withdraw\")\n",
    "        print(\"4. Exit\")\n",
    "\n",
    "        choice = input(\"Choose an option (1-4): \")\n",
    "\n",
    "        if choice == \"1\":\n",
    "            account.check_balance()\n",
    "        elif choice == \"2\":\n",
    "            try:\n",
    "                amount = float(input(\"Enter amount to deposit: $\"))\n",
    "                account.deposit(amount)\n",
    "            except ValueError:\n",
    "                print(\"Invalid input.\")\n",
    "        elif choice == \"3\":\n",
    "            try:\n",
    "                amount = float(input(\"Enter amount to withdraw: $\"))\n",
    "                account.withdraw(amount)\n",
    "            except ValueError:\n",
    "                print(\"Invalid input.\")\n",
    "        elif choice == \"4\":\n",
    "            print(f\"\\nThanks {account.name} for using our bank. Goodbye!\\n\")\n",
    "            break\n",
    "        else:\n",
    "            print(\"Invalid choice. Please enter 1, 2, 3 or 4.\")\n",
    "\n",
    "if __name__ == \"__main__\":\n",
    "    main()\n"
   ]
  },
  {
   "cell_type": "code",
   "execution_count": null,
   "id": "c41bbcc7-baa6-4778-8fd0-e40379912877",
   "metadata": {},
   "outputs": [],
   "source": []
  }
 ],
 "metadata": {
  "kernelspec": {
   "display_name": "Python 3 (ipykernel)",
   "language": "python",
   "name": "python3"
  },
  "language_info": {
   "codemirror_mode": {
    "name": "ipython",
    "version": 3
   },
   "file_extension": ".py",
   "mimetype": "text/x-python",
   "name": "python",
   "nbconvert_exporter": "python",
   "pygments_lexer": "ipython3",
   "version": "3.11.7"
  }
 },
 "nbformat": 4,
 "nbformat_minor": 5
}
