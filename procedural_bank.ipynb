{
 "cells": [
  {
   "cell_type": "code",
   "execution_count": 2,
   "id": "493c4b23-afe3-4a82-a9b9-1e1136c15214",
   "metadata": {},
   "outputs": [
    {
     "name": "stdout",
     "output_type": "stream",
     "text": [
      "\n",
      "Welcome to UniBank!\n",
      "\n"
     ]
    },
    {
     "name": "stdin",
     "output_type": "stream",
     "text": [
      "Enter your name:  sabah ahmed\n",
      "Enter your initial balance: $ 1000\n"
     ]
    },
    {
     "name": "stdout",
     "output_type": "stream",
     "text": [
      "\n",
      "Main Menu:\n",
      "1. Check Balance\n",
      "2. Deposit\n",
      "3. Withdraw\n",
      "4. Exit\n"
     ]
    },
    {
     "name": "stdin",
     "output_type": "stream",
     "text": [
      "Choose an option (1-4):  1\n"
     ]
    },
    {
     "name": "stdout",
     "output_type": "stream",
     "text": [
      "\n",
      "sabah ahmed, your balance is: $1000.00\n",
      "\n",
      "Main Menu:\n",
      "1. Check Balance\n",
      "2. Deposit\n",
      "3. Withdraw\n",
      "4. Exit\n"
     ]
    },
    {
     "name": "stdin",
     "output_type": "stream",
     "text": [
      "Choose an option (1-4):  2\n",
      "Enter amount to deposit: $ 500\n"
     ]
    },
    {
     "name": "stdout",
     "output_type": "stream",
     "text": [
      "Deposited $500.00. New balance: $1500.00\n",
      "\n",
      "Main Menu:\n",
      "1. Check Balance\n",
      "2. Deposit\n",
      "3. Withdraw\n",
      "4. Exit\n"
     ]
    },
    {
     "name": "stdin",
     "output_type": "stream",
     "text": [
      "Choose an option (1-4):  3\n",
      "Enter amount to withdraw: $ 100\n"
     ]
    },
    {
     "name": "stdout",
     "output_type": "stream",
     "text": [
      "Withdrew $100.00. New balance: $1400.00\n",
      "\n",
      "Main Menu:\n",
      "1. Check Balance\n",
      "2. Deposit\n",
      "3. Withdraw\n",
      "4. Exit\n"
     ]
    },
    {
     "name": "stdin",
     "output_type": "stream",
     "text": [
      "Choose an option (1-4):  1\n"
     ]
    },
    {
     "name": "stdout",
     "output_type": "stream",
     "text": [
      "\n",
      "sabah ahmed, your balance is: $1400.00\n",
      "\n",
      "Main Menu:\n",
      "1. Check Balance\n",
      "2. Deposit\n",
      "3. Withdraw\n",
      "4. Exit\n"
     ]
    },
    {
     "name": "stdin",
     "output_type": "stream",
     "text": [
      "Choose an option (1-4):  4\n"
     ]
    },
    {
     "name": "stdout",
     "output_type": "stream",
     "text": [
      "\n",
      "Thanks sabah ahmed for using our bank. Goodbye!\n",
      "\n"
     ]
    }
   ],
   "source": [
    "import random\n",
    "\n",
    "def welcome():\n",
    "    banks = [\"SmartBank\", \"TechBank\", \"FutureBank\", \"UniBank\"]\n",
    "    print(f\"\\nWelcome to {random.choice(banks)}!\\n\")\n",
    "\n",
    "def create_account():\n",
    "    name = input(\"Enter your name: \")\n",
    "    while True:\n",
    "        try:\n",
    "            balance = float(input(\"Enter your initial balance: $\"))\n",
    "            break\n",
    "        except ValueError:\n",
    "            print(\"Invalid input. Please enter a number.\")\n",
    "    return {\"name\": name, \"balance\": balance}\n",
    "\n",
    "\n",
    "def check_balance(account):\n",
    "    print(f\"\\n{account['name']}, your balance is: ${account['balance']:.2f}\")\n",
    "\n",
    "def deposit(account):\n",
    "    try:\n",
    "        amount = float(input(\"Enter amount to deposit: $\"))\n",
    "        if amount > 0:\n",
    "            account[\"balance\"] += amount\n",
    "            print(f\"Deposited ${amount:.2f}. New balance: ${account['balance']:.2f}\")\n",
    "        else:\n",
    "            print(\"Amount must be positive.\")\n",
    "    except ValueError:\n",
    "        print(\"Invalid input.\")\n",
    "\n",
    "def withdraw(account):\n",
    "    try:\n",
    "        amount = float(input(\"Enter amount to withdraw: $\"))\n",
    "        if amount <= 0:\n",
    "            print(\"Amount must be positive.\")\n",
    "        elif amount > account[\"balance\"]:\n",
    "            print(\"Insufficient balance!\")\n",
    "        else:\n",
    "            account[\"balance\"] -= amount\n",
    "            print(f\"Withdrew ${amount:.2f}. New balance: ${account['balance']:.2f}\")\n",
    "    except ValueError:\n",
    "        print(\"Invalid input.\")\n",
    "\n",
    "def main():\n",
    "    welcome()\n",
    "    account = create_account()\n",
    "\n",
    "    while True:\n",
    "        print(\"\\nMain Menu:\")\n",
    "        print(\"1. Check Balance\")\n",
    "        print(\"2. Deposit\")\n",
    "        print(\"3. Withdraw\")\n",
    "        print(\"4. Exit\")\n",
    "\n",
    "        choice = input(\"Choose an option (1-4): \")\n",
    "\n",
    "        if choice == \"1\":\n",
    "            check_balance(account)\n",
    "        elif choice == \"2\":\n",
    "            deposit(account)\n",
    "        elif choice == \"3\":\n",
    "            withdraw(account)\n",
    "        elif choice == \"4\":\n",
    "            print(f\"\\nThanks {account['name']} for using our bank. Goodbye!\\n\")\n",
    "            break\n",
    "        else:\n",
    "            print(\"Invalid choice. Please enter 1, 2, 3 or 4.\")\n",
    "\n",
    "if __name__ == \"__main__\":\n",
    "    main()\n"
   ]
  },
  {
   "cell_type": "code",
   "execution_count": null,
   "id": "060775f4-a2f2-403b-9034-97e91ca0a737",
   "metadata": {},
   "outputs": [],
   "source": []
  }
 ],
 "metadata": {
  "kernelspec": {
   "display_name": "Python 3 (ipykernel)",
   "language": "python",
   "name": "python3"
  },
  "language_info": {
   "codemirror_mode": {
    "name": "ipython",
    "version": 3
   },
   "file_extension": ".py",
   "mimetype": "text/x-python",
   "name": "python",
   "nbconvert_exporter": "python",
   "pygments_lexer": "ipython3",
   "version": "3.11.7"
  }
 },
 "nbformat": 4,
 "nbformat_minor": 5
}
